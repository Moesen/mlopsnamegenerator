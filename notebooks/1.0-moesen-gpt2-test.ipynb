{
 "cells": [
  {
   "cell_type": "code",
   "execution_count": 1,
   "metadata": {},
   "outputs": [],
   "source": [
    "import re\r\n",
    "import pandas as pd\r\n",
    "import numpy as np\r\n",
    "import torch\r\n",
    "from torch.utils.data import Dataset, DataLoader\r\n",
    "from transformers import AutoTokenizer, AutoModelWithLMHead\r\n",
    "from torch import optim"
   ]
  },
  {
   "cell_type": "code",
   "execution_count": 2,
   "metadata": {},
   "outputs": [
    {
     "data": {
      "text/plain": [
       "device(type='cpu')"
      ]
     },
     "execution_count": 2,
     "metadata": {},
     "output_type": "execute_result"
    }
   ],
   "source": [
    "device = torch.device(\"cuda:0\" if torch.cuda.is_available() else \"cpu\")\n",
    "device"
   ]
  },
  {
   "cell_type": "code",
   "execution_count": 3,
   "metadata": {},
   "outputs": [
    {
     "data": {
      "text/html": [
       "<div>\n",
       "<style scoped>\n",
       "    .dataframe tbody tr th:only-of-type {\n",
       "        vertical-align: middle;\n",
       "    }\n",
       "\n",
       "    .dataframe tbody tr th {\n",
       "        vertical-align: top;\n",
       "    }\n",
       "\n",
       "    .dataframe thead th {\n",
       "        text-align: right;\n",
       "    }\n",
       "</style>\n",
       "<table border=\"1\" class=\"dataframe\">\n",
       "  <thead>\n",
       "    <tr style=\"text-align: right;\">\n",
       "      <th></th>\n",
       "      <th>entry_name</th>\n",
       "      <th>name</th>\n",
       "      <th>description</th>\n",
       "    </tr>\n",
       "  </thead>\n",
       "  <tbody>\n",
       "    <tr>\n",
       "      <th>0</th>\n",
       "      <td>209</td>\n",
       "      <td>snubbull</td>\n",
       "      <td>By baring its fangs and making a scary face, t...</td>\n",
       "    </tr>\n",
       "    <tr>\n",
       "      <th>1</th>\n",
       "      <td>39</td>\n",
       "      <td>jigglypuff</td>\n",
       "      <td>If it inflates to SING a lullaby, it can perfo...</td>\n",
       "    </tr>\n",
       "    <tr>\n",
       "      <th>2</th>\n",
       "      <td>490</td>\n",
       "      <td>manaphy</td>\n",
       "      <td>It starts its life with a wondrous power that ...</td>\n",
       "    </tr>\n",
       "    <tr>\n",
       "      <th>3</th>\n",
       "      <td>173</td>\n",
       "      <td>cleffa</td>\n",
       "      <td>On nights with many shooting stars, this Pokém...</td>\n",
       "    </tr>\n",
       "    <tr>\n",
       "      <th>4</th>\n",
       "      <td>144</td>\n",
       "      <td>articuno</td>\n",
       "      <td>The magnificent, seemingly translucent wings o...</td>\n",
       "    </tr>\n",
       "  </tbody>\n",
       "</table>\n",
       "</div>"
      ],
      "text/plain": [
       "   entry_name        name                                        description\n",
       "0         209    snubbull  By baring its fangs and making a scary face, t...\n",
       "1          39  jigglypuff  If it inflates to SING a lullaby, it can perfo...\n",
       "2         490     manaphy  It starts its life with a wondrous power that ...\n",
       "3         173      cleffa  On nights with many shooting stars, this Pokém...\n",
       "4         144    articuno  The magnificent, seemingly translucent wings o..."
      ]
     },
     "execution_count": 3,
     "metadata": {},
     "output_type": "execute_result"
    }
   ],
   "source": [
    "df = pd.read_csv(\"../data/processed/train.csv\")\r\n",
    "df.head()"
   ]
  },
  {
   "cell_type": "code",
   "execution_count": 4,
   "metadata": {},
   "outputs": [
    {
     "data": {
      "text/plain": [
       "['snubbull', 'jigglypuff', 'manaphy', 'cleffa', 'articuno']"
      ]
     },
     "execution_count": 4,
     "metadata": {},
     "output_type": "execute_result"
    }
   ],
   "source": [
    "pokemon_names = df[\"name\"].tolist()\r\n",
    "pokemon_names[:5]"
   ]
  },
  {
   "cell_type": "code",
   "execution_count": 5,
   "metadata": {},
   "outputs": [
    {
     "data": {
      "text/plain": [
       "1.0"
      ]
     },
     "execution_count": 5,
     "metadata": {},
     "output_type": "execute_result"
    }
   ],
   "source": [
    "avg_num_words = sum([len(name.split()) for name in pokemon_names])/len(pokemon_names)\r\n",
    "avg_num_words"
   ]
  },
  {
   "cell_type": "code",
   "execution_count": 6,
   "metadata": {},
   "outputs": [],
   "source": [
    "max_length = 1"
   ]
  },
  {
   "cell_type": "code",
   "execution_count": 7,
   "metadata": {},
   "outputs": [
    {
     "name": "stderr",
     "output_type": "stream",
     "text": [
      "C:\\Users\\s174169\\Anaconda3\\envs\\pokemon\\lib\\site-packages\\transformers\\models\\auto\\modeling_auto.py:783: FutureWarning: The class `AutoModelWithLMHead` is deprecated and will be removed in a future version. Please use `AutoModelForCausalLM` for causal language models, `AutoModelForMaskedLM` for masked language models and `AutoModelForSeq2SeqLM` for encoder-decoder models.\n",
      "  warnings.warn(\n"
     ]
    }
   ],
   "source": [
    "tokenizer = AutoTokenizer.from_pretrained(\"gpt2\")\r\n",
    "model = AutoModelWithLMHead.from_pretrained(\"gpt2\")\r\n",
    "model = model.to(device)"
   ]
  },
  {
   "cell_type": "code",
   "execution_count": 8,
   "metadata": {},
   "outputs": [
    {
     "data": {
      "text/plain": [
       "AdamW (\n",
       "Parameter Group 0\n",
       "    amsgrad: False\n",
       "    betas: (0.9, 0.999)\n",
       "    eps: 1e-08\n",
       "    lr: 0.0003\n",
       "    weight_decay: 0.01\n",
       ")"
      ]
     },
     "execution_count": 8,
     "metadata": {},
     "output_type": "execute_result"
    }
   ],
   "source": [
    "optimizer = optim.AdamW(model.parameters(), lr=3e-4)\r\n",
    "optimizer"
   ]
  },
  {
   "cell_type": "code",
   "execution_count": 9,
   "metadata": {},
   "outputs": [
    {
     "data": {
      "text/plain": [
       "[48034, 25, 220]"
      ]
     },
     "execution_count": 9,
     "metadata": {},
     "output_type": "execute_result"
    }
   ],
   "source": [
    "tokenizer.encode(\"Pokemon: \")"
   ]
  },
  {
   "cell_type": "code",
   "execution_count": 10,
   "metadata": {},
   "outputs": [],
   "source": [
    "extra_length = len(tokenizer.encode(\"Pokemon: \"))"
   ]
  },
  {
   "cell_type": "code",
   "execution_count": 11,
   "metadata": {},
   "outputs": [],
   "source": [
    "class PokemonDataset(Dataset):\r\n",
    "    def __init__(self, tokenizer, init_token, pokemon_names, max_len):\r\n",
    "        self.max_len = max_len\r\n",
    "        self.tokenizer = tokenizer\r\n",
    "        self.eos = self.tokenizer.eos_token\r\n",
    "        self.eos_id = self.tokenizer.eos_token_id\r\n",
    "        self.names = pokemon_names\r\n",
    "        self.result = []\r\n",
    "\r\n",
    "        for movie in self.names:\r\n",
    "            # Encode the text using tokenizer.encode(). We ass EOS at the end\r\n",
    "            tokenized = self.tokenizer.encode(init_token + movie + self.eos)\r\n",
    "            \r\n",
    "            # Padding/truncating the encoded sequence to max_len \r\n",
    "            padded = self.pad_truncate(tokenized)            \r\n",
    "\r\n",
    "            # Creating a tensor and adding to the result\r\n",
    "            self.result.append(torch.tensor(padded))\r\n",
    "\r\n",
    "    def __len__(self):\r\n",
    "        return len(self.result)\r\n",
    "\r\n",
    "    def pad_truncate(self, name):\r\n",
    "        name_length = len(name) - extra_length\r\n",
    "        if name_length < self.max_len:\r\n",
    "            difference = self.max_len - name_length\r\n",
    "            result = name + [self.eos_id] * difference\r\n",
    "        elif name_length > self.max_len:\r\n",
    "            result = name[:self.max_len + 2]+[self.eos_id] \r\n",
    "        else:\r\n",
    "            result = name\r\n",
    "        return result\r\n",
    "\r\n",
    "    def __getitem__(self, item):\r\n",
    "        return self.result[item]\r\n",
    "\r\n",
    "    "
   ]
  },
  {
   "cell_type": "code",
   "execution_count": 12,
   "metadata": {},
   "outputs": [],
   "source": [
    "dataset = PokemonDataset(tokenizer, \"Pokemon: \", pokemon_names, max_len=10)"
   ]
  },
  {
   "cell_type": "code",
   "execution_count": 13,
   "metadata": {},
   "outputs": [],
   "source": [
    "dataloader = DataLoader(dataset, batch_size=32, shuffle=True, drop_last=True)"
   ]
  },
  {
   "cell_type": "code",
   "execution_count": 14,
   "metadata": {},
   "outputs": [],
   "source": [
    "def train(model, optimizer, dl, epochs):\r\n",
    "    for epoch in range(epochs):\r\n",
    "        print(f\"Epoch: {epoch}\")\r\n",
    "        for idx, batch in enumerate(dl):\r\n",
    "            with torch.set_grad_enabled(True):\r\n",
    "                optimizer.zero_grad()\r\n",
    "                batch = batch.to(device)\r\n",
    "                output = model(batch, labels=batch)\r\n",
    "                loss = output[0]\r\n",
    "                loss.backward()\r\n",
    "                optimizer.step()\r\n",
    "                if idx % 10 == 0:\r\n",
    "                    print(\"loss: %f, idx: %d, epoch: %d\"%(loss, idx, epoch))"
   ]
  },
  {
   "cell_type": "code",
   "execution_count": 15,
   "metadata": {},
   "outputs": [
    {
     "name": "stdout",
     "output_type": "stream",
     "text": [
      "Epoch: 0\n",
      "loss: 11.002464, idx: 0, epoch: 0\n",
      "loss: 1.080761, idx: 10, epoch: 0\n"
     ]
    }
   ],
   "source": [
    "train(model=model, optimizer=optimizer, dl=dataloader, epochs=2)"
   ]
  },
  {
   "cell_type": "code",
   "execution_count": 1,
   "metadata": {},
   "outputs": [
    {
     "ename": "NameError",
     "evalue": "name 'torch' is not defined",
     "output_type": "error",
     "traceback": [
      "\u001b[1;31m---------------------------------------------------------------------------\u001b[0m",
      "\u001b[1;31mNameError\u001b[0m                                 Traceback (most recent call last)",
      "\u001b[1;32m~\\AppData\\Local\\Temp/ipykernel_32660/3588946597.py\u001b[0m in \u001b[0;36m<module>\u001b[1;34m\u001b[0m\n\u001b[1;32m----> 1\u001b[1;33m \u001b[0mtorch\u001b[0m\u001b[1;33m.\u001b[0m\u001b[0msave\u001b[0m\u001b[1;33m(\u001b[0m\u001b[0mmodel\u001b[0m\u001b[1;33m.\u001b[0m\u001b[0mstate_dict\u001b[0m\u001b[1;33m(\u001b[0m\u001b[1;33m)\u001b[0m\u001b[1;33m,\u001b[0m \u001b[1;34m\"pokemon_gpt.pth\"\u001b[0m\u001b[1;33m)\u001b[0m\u001b[1;33m\u001b[0m\u001b[1;33m\u001b[0m\u001b[0m\n\u001b[0m",
      "\u001b[1;31mNameError\u001b[0m: name 'torch' is not defined"
     ]
    }
   ],
   "source": [
    "torch.save(model.state_dict(), \"pokemon_gpt.pth\")"
   ]
  }
 ],
 "metadata": {
  "interpreter": {
   "hash": "cf54c8206e757fff3998cfd2f676501198034b314a86b20e4402a95e66a8f8e6"
  },
  "kernelspec": {
   "display_name": "Python 3.8.12 64-bit ('pokemon': conda)",
   "name": "python3"
  },
  "language_info": {
   "codemirror_mode": {
    "name": "ipython",
    "version": 3
   },
   "file_extension": ".py",
   "mimetype": "text/x-python",
   "name": "python",
   "nbconvert_exporter": "python",
   "pygments_lexer": "ipython3",
   "version": "3.8.12"
  },
  "orig_nbformat": 4
 },
 "nbformat": 4,
 "nbformat_minor": 2
}